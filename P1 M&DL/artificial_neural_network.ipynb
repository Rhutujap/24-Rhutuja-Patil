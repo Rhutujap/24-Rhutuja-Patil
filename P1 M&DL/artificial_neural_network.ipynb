{
  "nbformat": 4,
  "nbformat_minor": 0,
  "metadata": {
    "colab": {
      "name": "artificial_neural_network.ipynb",
      "provenance": [],
      "collapsed_sections": [],
      "toc_visible": true
    },
    "kernelspec": {
      "display_name": "Python 3",
      "language": "python",
      "name": "python3"
    },
    "language_info": {
      "codemirror_mode": {
        "name": "ipython",
        "version": 3
      },
      "file_extension": ".py",
      "mimetype": "text/x-python",
      "name": "python",
      "nbconvert_exporter": "python",
      "pygments_lexer": "ipython3",
      "version": "3.7.6"
    }
  },
  "cells": [
    {
      "cell_type": "markdown",
      "metadata": {
        "id": "RXZAM7IhhihI"
      },
      "source": [
        "**Rhutuja Patil Roll no 24**"
      ]
    },
    {
      "cell_type": "markdown",
      "metadata": {
        "id": "lP6JLo1tGNBg"
      },
      "source": [
        "# Artificial Neural Network"
      ]
    },
    {
      "cell_type": "markdown",
      "metadata": {
        "id": "gWZyYmS_UE_L"
      },
      "source": [
        "### Importing the libraries"
      ]
    },
    {
      "cell_type": "code",
      "metadata": {
        "colab": {
          "base_uri": "https://localhost:8080/"
        },
        "id": "27XHYRJP-2jh",
        "outputId": "58645ec3-b9a5-4064-bfe3-61fe995f12fe"
      },
      "source": [
        "from google.colab import drive\n",
        "drive.mount('/content/drive')"
      ],
      "execution_count": 1,
      "outputs": [
        {
          "output_type": "stream",
          "text": [
            "Drive already mounted at /content/drive; to attempt to forcibly remount, call drive.mount(\"/content/drive\", force_remount=True).\n"
          ],
          "name": "stdout"
        }
      ]
    },
    {
      "cell_type": "code",
      "metadata": {
        "id": "MxkJoQBkUIHC"
      },
      "source": [
        "import numpy as np\n",
        "import pandas as pd\n",
        "import tensorflow as tf"
      ],
      "execution_count": 2,
      "outputs": []
    },
    {
      "cell_type": "code",
      "metadata": {
        "colab": {
          "base_uri": "https://localhost:8080/",
          "height": 35
        },
        "id": "ZaTwK7ojXr2F",
        "outputId": "f98f3b48-c055-4639-f5d9-365d56e065c3"
      },
      "source": [
        "tf.__version__"
      ],
      "execution_count": 3,
      "outputs": [
        {
          "output_type": "execute_result",
          "data": {
            "application/vnd.google.colaboratory.intrinsic+json": {
              "type": "string"
            },
            "text/plain": [
              "'2.4.0'"
            ]
          },
          "metadata": {
            "tags": []
          },
          "execution_count": 3
        }
      ]
    },
    {
      "cell_type": "markdown",
      "metadata": {
        "id": "1E0Q3aoKUCRX"
      },
      "source": [
        "## Part 1 - Data Preprocessing"
      ]
    },
    {
      "cell_type": "markdown",
      "metadata": {
        "id": "cKWAkFVGUU0Z"
      },
      "source": [
        "### Importing the dataset"
      ]
    },
    {
      "cell_type": "code",
      "metadata": {
        "id": "MXUkhkMfU4wq"
      },
      "source": [
        "dataset = pd.read_csv('/content/drive/MyDrive/Churn_Modelling.csv')\n",
        "X = dataset.iloc[:, 3:-1].values\n",
        "y = dataset.iloc[:, -1].values"
      ],
      "execution_count": 4,
      "outputs": []
    },
    {
      "cell_type": "code",
      "metadata": {
        "colab": {
          "base_uri": "https://localhost:8080/"
        },
        "id": "VYP9cQTWbzuI",
        "outputId": "30da9f52-1e89-4096-c3e7-6cb3326af298"
      },
      "source": [
        "print(X)"
      ],
      "execution_count": 5,
      "outputs": [
        {
          "output_type": "stream",
          "text": [
            "[[619 'France' 'Female' ... 1 1 101348.88]\n",
            " [608 'Spain' 'Female' ... 0 1 112542.58]\n",
            " [502 'France' 'Female' ... 1 0 113931.57]\n",
            " ...\n",
            " [709 'France' 'Female' ... 0 1 42085.58]\n",
            " [772 'Germany' 'Male' ... 1 0 92888.52]\n",
            " [792 'France' 'Female' ... 1 0 38190.78]]\n"
          ],
          "name": "stdout"
        }
      ]
    },
    {
      "cell_type": "code",
      "metadata": {
        "colab": {
          "base_uri": "https://localhost:8080/"
        },
        "id": "38vKGE6Nb2RR",
        "outputId": "81b92288-6e87-44fb-b5a8-a15689bae868"
      },
      "source": [
        "print(y)"
      ],
      "execution_count": 6,
      "outputs": [
        {
          "output_type": "stream",
          "text": [
            "[1 0 1 ... 1 1 0]\n"
          ],
          "name": "stdout"
        }
      ]
    },
    {
      "cell_type": "markdown",
      "metadata": {
        "id": "N6bQ0UgSU-NJ"
      },
      "source": [
        "### Encoding categorical data"
      ]
    },
    {
      "cell_type": "markdown",
      "metadata": {
        "id": "le5MJreAbW52"
      },
      "source": [
        "Label Encoding the \"Gender\" column"
      ]
    },
    {
      "cell_type": "code",
      "metadata": {
        "id": "PxVKWXxLbczC"
      },
      "source": [
        "from sklearn.preprocessing import LabelEncoder\n",
        "le = LabelEncoder()\n",
        "X[:, 2] = le.fit_transform(X[:, 2])"
      ],
      "execution_count": 7,
      "outputs": []
    },
    {
      "cell_type": "code",
      "metadata": {
        "colab": {
          "base_uri": "https://localhost:8080/"
        },
        "id": "-M1KboxFb6OO",
        "outputId": "0af6344e-8a45-4e9f-f9d6-f513360f53e9"
      },
      "source": [
        "print(X)"
      ],
      "execution_count": 8,
      "outputs": [
        {
          "output_type": "stream",
          "text": [
            "[[619 'France' 0 ... 1 1 101348.88]\n",
            " [608 'Spain' 0 ... 0 1 112542.58]\n",
            " [502 'France' 0 ... 1 0 113931.57]\n",
            " ...\n",
            " [709 'France' 0 ... 0 1 42085.58]\n",
            " [772 'Germany' 1 ... 1 0 92888.52]\n",
            " [792 'France' 0 ... 1 0 38190.78]]\n"
          ],
          "name": "stdout"
        }
      ]
    },
    {
      "cell_type": "markdown",
      "metadata": {
        "id": "CUxGZezpbMcb"
      },
      "source": [
        "One Hot Encoding the \"Geography\" column"
      ]
    },
    {
      "cell_type": "code",
      "metadata": {
        "id": "AMXC8-KMVirw"
      },
      "source": [
        "from sklearn.compose import ColumnTransformer\n",
        "from sklearn.preprocessing import OneHotEncoder\n",
        "ct = ColumnTransformer(transformers=[('encoder', OneHotEncoder(), [1])], remainder='passthrough')\n",
        "X = np.array(ct.fit_transform(X))"
      ],
      "execution_count": 9,
      "outputs": []
    },
    {
      "cell_type": "code",
      "metadata": {
        "colab": {
          "base_uri": "https://localhost:8080/"
        },
        "id": "ZcxwEon-b8nV",
        "outputId": "fc893e43-ecde-4e3f-9c39-79b7434929af"
      },
      "source": [
        "print(X)"
      ],
      "execution_count": 10,
      "outputs": [
        {
          "output_type": "stream",
          "text": [
            "[[1.0 0.0 0.0 ... 1 1 101348.88]\n",
            " [0.0 0.0 1.0 ... 0 1 112542.58]\n",
            " [1.0 0.0 0.0 ... 1 0 113931.57]\n",
            " ...\n",
            " [1.0 0.0 0.0 ... 0 1 42085.58]\n",
            " [0.0 1.0 0.0 ... 1 0 92888.52]\n",
            " [1.0 0.0 0.0 ... 1 0 38190.78]]\n"
          ],
          "name": "stdout"
        }
      ]
    },
    {
      "cell_type": "markdown",
      "metadata": {
        "id": "vHol938cW8zd"
      },
      "source": [
        "### Splitting the dataset into the Training set and Test set"
      ]
    },
    {
      "cell_type": "code",
      "metadata": {
        "id": "Z-TDt0Y_XEfc"
      },
      "source": [
        "from sklearn.model_selection import train_test_split\n",
        "X_train, X_test, y_train, y_test = train_test_split(X, y, test_size = 0.2, random_state = 0)"
      ],
      "execution_count": 11,
      "outputs": []
    },
    {
      "cell_type": "markdown",
      "metadata": {
        "id": "RE_FcHyfV3TQ"
      },
      "source": [
        "### Feature Scaling"
      ]
    },
    {
      "cell_type": "code",
      "metadata": {
        "id": "ViCrE00rV8Sk"
      },
      "source": [
        "from sklearn.preprocessing import StandardScaler\n",
        "sc = StandardScaler()\n",
        "X_train = sc.fit_transform(X_train)\n",
        "X_test = sc.transform(X_test)"
      ],
      "execution_count": 12,
      "outputs": []
    },
    {
      "cell_type": "markdown",
      "metadata": {
        "id": "-zfEzkRVXIwF"
      },
      "source": [
        "## Part 2 - Building the ANN"
      ]
    },
    {
      "cell_type": "markdown",
      "metadata": {
        "id": "KvdeScabXtlB"
      },
      "source": [
        "### Initializing the ANN"
      ]
    },
    {
      "cell_type": "code",
      "metadata": {
        "id": "3dtrScHxXQox"
      },
      "source": [
        "ann = tf.keras.models.Sequential()"
      ],
      "execution_count": 13,
      "outputs": []
    },
    {
      "cell_type": "markdown",
      "metadata": {
        "id": "rP6urV6SX7kS"
      },
      "source": [
        "### Adding the input layer and the first hidden layer"
      ]
    },
    {
      "cell_type": "code",
      "metadata": {
        "id": "bppGycBXYCQr"
      },
      "source": [
        "ann.add(tf.keras.layers.Dense(units=6, activation='relu'))"
      ],
      "execution_count": 14,
      "outputs": []
    },
    {
      "cell_type": "markdown",
      "metadata": {
        "id": "BELWAc_8YJze"
      },
      "source": [
        "### Adding the second hidden layer"
      ]
    },
    {
      "cell_type": "code",
      "metadata": {
        "id": "JneR0u0sYRTd"
      },
      "source": [
        "ann.add(tf.keras.layers.Dense(units=6, activation='relu'))"
      ],
      "execution_count": 15,
      "outputs": []
    },
    {
      "cell_type": "markdown",
      "metadata": {
        "id": "OyNEe6RXYcU4"
      },
      "source": [
        "### Adding the output layer"
      ]
    },
    {
      "cell_type": "code",
      "metadata": {
        "id": "Cn3x41RBYfvY"
      },
      "source": [
        "ann.add(tf.keras.layers.Dense(units=1, activation='sigmoid'))"
      ],
      "execution_count": 16,
      "outputs": []
    },
    {
      "cell_type": "markdown",
      "metadata": {
        "id": "JT4u2S1_Y4WG"
      },
      "source": [
        "## Part 3 - Training the ANN"
      ]
    },
    {
      "cell_type": "markdown",
      "metadata": {
        "id": "8GWlJChhY_ZI"
      },
      "source": [
        "### Compiling the ANN"
      ]
    },
    {
      "cell_type": "code",
      "metadata": {
        "id": "fG3RrwDXZEaS"
      },
      "source": [
        "ann.compile(optimizer = 'adam', loss = 'binary_crossentropy', metrics = ['accuracy'])"
      ],
      "execution_count": 17,
      "outputs": []
    },
    {
      "cell_type": "markdown",
      "metadata": {
        "id": "0QR_G5u7ZLSM"
      },
      "source": [
        "### Training the ANN on the Training set"
      ]
    },
    {
      "cell_type": "code",
      "metadata": {
        "colab": {
          "base_uri": "https://localhost:8080/"
        },
        "id": "nHZ-LKv_ZRb3",
        "outputId": "0793d1be-4558-423a-f1a5-6d0a011bc591"
      },
      "source": [
        "ann.fit(X_train, y_train, batch_size = 32, epochs = 100)"
      ],
      "execution_count": 18,
      "outputs": [
        {
          "output_type": "stream",
          "text": [
            "Epoch 1/100\n",
            "250/250 [==============================] - 1s 983us/step - loss: 0.6212 - accuracy: 0.7017\n",
            "Epoch 2/100\n",
            "250/250 [==============================] - 0s 962us/step - loss: 0.4678 - accuracy: 0.8061\n",
            "Epoch 3/100\n",
            "250/250 [==============================] - 0s 978us/step - loss: 0.4278 - accuracy: 0.8163\n",
            "Epoch 4/100\n",
            "250/250 [==============================] - 0s 982us/step - loss: 0.4283 - accuracy: 0.8136\n",
            "Epoch 5/100\n",
            "250/250 [==============================] - 0s 980us/step - loss: 0.4157 - accuracy: 0.8141\n",
            "Epoch 6/100\n",
            "250/250 [==============================] - 0s 980us/step - loss: 0.4027 - accuracy: 0.8260\n",
            "Epoch 7/100\n",
            "250/250 [==============================] - 0s 970us/step - loss: 0.4001 - accuracy: 0.8259\n",
            "Epoch 8/100\n",
            "250/250 [==============================] - 0s 973us/step - loss: 0.4081 - accuracy: 0.8214\n",
            "Epoch 9/100\n",
            "250/250 [==============================] - 0s 971us/step - loss: 0.4044 - accuracy: 0.8276\n",
            "Epoch 10/100\n",
            "250/250 [==============================] - 0s 1ms/step - loss: 0.4029 - accuracy: 0.8224\n",
            "Epoch 11/100\n",
            "250/250 [==============================] - 0s 1ms/step - loss: 0.3874 - accuracy: 0.8337\n",
            "Epoch 12/100\n",
            "250/250 [==============================] - 0s 964us/step - loss: 0.3896 - accuracy: 0.8262\n",
            "Epoch 13/100\n",
            "250/250 [==============================] - 0s 997us/step - loss: 0.3880 - accuracy: 0.8300\n",
            "Epoch 14/100\n",
            "250/250 [==============================] - 0s 1ms/step - loss: 0.3933 - accuracy: 0.8253\n",
            "Epoch 15/100\n",
            "250/250 [==============================] - 0s 981us/step - loss: 0.3742 - accuracy: 0.8385\n",
            "Epoch 16/100\n",
            "250/250 [==============================] - 0s 966us/step - loss: 0.3737 - accuracy: 0.8323\n",
            "Epoch 17/100\n",
            "250/250 [==============================] - 0s 990us/step - loss: 0.3800 - accuracy: 0.8285\n",
            "Epoch 18/100\n",
            "250/250 [==============================] - 0s 1ms/step - loss: 0.3638 - accuracy: 0.8347\n",
            "Epoch 19/100\n",
            "250/250 [==============================] - 0s 980us/step - loss: 0.3689 - accuracy: 0.8336\n",
            "Epoch 20/100\n",
            "250/250 [==============================] - 0s 962us/step - loss: 0.3700 - accuracy: 0.8279\n",
            "Epoch 21/100\n",
            "250/250 [==============================] - 0s 941us/step - loss: 0.3604 - accuracy: 0.8444\n",
            "Epoch 22/100\n",
            "250/250 [==============================] - 0s 971us/step - loss: 0.3526 - accuracy: 0.8546\n",
            "Epoch 23/100\n",
            "250/250 [==============================] - 0s 1ms/step - loss: 0.3664 - accuracy: 0.8461\n",
            "Epoch 24/100\n",
            "250/250 [==============================] - 0s 981us/step - loss: 0.3574 - accuracy: 0.8533\n",
            "Epoch 25/100\n",
            "250/250 [==============================] - 0s 986us/step - loss: 0.3510 - accuracy: 0.8464\n",
            "Epoch 26/100\n",
            "250/250 [==============================] - 0s 953us/step - loss: 0.3525 - accuracy: 0.8558\n",
            "Epoch 27/100\n",
            "250/250 [==============================] - 0s 960us/step - loss: 0.3552 - accuracy: 0.8564\n",
            "Epoch 28/100\n",
            "250/250 [==============================] - 0s 921us/step - loss: 0.3618 - accuracy: 0.8472\n",
            "Epoch 29/100\n",
            "250/250 [==============================] - 0s 1ms/step - loss: 0.3482 - accuracy: 0.8504\n",
            "Epoch 30/100\n",
            "250/250 [==============================] - 0s 921us/step - loss: 0.3483 - accuracy: 0.8545\n",
            "Epoch 31/100\n",
            "250/250 [==============================] - 0s 957us/step - loss: 0.3665 - accuracy: 0.8471\n",
            "Epoch 32/100\n",
            "250/250 [==============================] - 0s 930us/step - loss: 0.3528 - accuracy: 0.8560\n",
            "Epoch 33/100\n",
            "250/250 [==============================] - 0s 1ms/step - loss: 0.3436 - accuracy: 0.8630\n",
            "Epoch 34/100\n",
            "250/250 [==============================] - 0s 949us/step - loss: 0.3442 - accuracy: 0.8564\n",
            "Epoch 35/100\n",
            "250/250 [==============================] - 0s 956us/step - loss: 0.3476 - accuracy: 0.8571\n",
            "Epoch 36/100\n",
            "250/250 [==============================] - 0s 932us/step - loss: 0.3377 - accuracy: 0.8661\n",
            "Epoch 37/100\n",
            "250/250 [==============================] - 0s 970us/step - loss: 0.3453 - accuracy: 0.8582\n",
            "Epoch 38/100\n",
            "250/250 [==============================] - 0s 975us/step - loss: 0.3395 - accuracy: 0.8627\n",
            "Epoch 39/100\n",
            "250/250 [==============================] - 0s 939us/step - loss: 0.3467 - accuracy: 0.8551\n",
            "Epoch 40/100\n",
            "250/250 [==============================] - 0s 959us/step - loss: 0.3447 - accuracy: 0.8572\n",
            "Epoch 41/100\n",
            "250/250 [==============================] - 0s 974us/step - loss: 0.3473 - accuracy: 0.8539\n",
            "Epoch 42/100\n",
            "250/250 [==============================] - 0s 984us/step - loss: 0.3413 - accuracy: 0.8618\n",
            "Epoch 43/100\n",
            "250/250 [==============================] - 0s 934us/step - loss: 0.3450 - accuracy: 0.8613\n",
            "Epoch 44/100\n",
            "250/250 [==============================] - 0s 956us/step - loss: 0.3426 - accuracy: 0.8562\n",
            "Epoch 45/100\n",
            "250/250 [==============================] - 0s 973us/step - loss: 0.3335 - accuracy: 0.8628\n",
            "Epoch 46/100\n",
            "250/250 [==============================] - 0s 969us/step - loss: 0.3456 - accuracy: 0.8554\n",
            "Epoch 47/100\n",
            "250/250 [==============================] - 0s 1ms/step - loss: 0.3515 - accuracy: 0.8536\n",
            "Epoch 48/100\n",
            "250/250 [==============================] - 0s 992us/step - loss: 0.3383 - accuracy: 0.8652\n",
            "Epoch 49/100\n",
            "250/250 [==============================] - 0s 983us/step - loss: 0.3423 - accuracy: 0.8573\n",
            "Epoch 50/100\n",
            "250/250 [==============================] - 0s 950us/step - loss: 0.3543 - accuracy: 0.8496\n",
            "Epoch 51/100\n",
            "250/250 [==============================] - 0s 932us/step - loss: 0.3318 - accuracy: 0.8648\n",
            "Epoch 52/100\n",
            "250/250 [==============================] - 0s 1ms/step - loss: 0.3445 - accuracy: 0.8590\n",
            "Epoch 53/100\n",
            "250/250 [==============================] - 0s 1ms/step - loss: 0.3359 - accuracy: 0.8667\n",
            "Epoch 54/100\n",
            "250/250 [==============================] - 0s 914us/step - loss: 0.3361 - accuracy: 0.8638\n",
            "Epoch 55/100\n",
            "250/250 [==============================] - 0s 947us/step - loss: 0.3377 - accuracy: 0.8585\n",
            "Epoch 56/100\n",
            "250/250 [==============================] - 0s 919us/step - loss: 0.3372 - accuracy: 0.8630\n",
            "Epoch 57/100\n",
            "250/250 [==============================] - 0s 979us/step - loss: 0.3335 - accuracy: 0.8587\n",
            "Epoch 58/100\n",
            "250/250 [==============================] - 0s 966us/step - loss: 0.3351 - accuracy: 0.8659\n",
            "Epoch 59/100\n",
            "250/250 [==============================] - 0s 991us/step - loss: 0.3377 - accuracy: 0.8618\n",
            "Epoch 60/100\n",
            "250/250 [==============================] - 0s 945us/step - loss: 0.3295 - accuracy: 0.8672\n",
            "Epoch 61/100\n",
            "250/250 [==============================] - 0s 950us/step - loss: 0.3356 - accuracy: 0.8601\n",
            "Epoch 62/100\n",
            "250/250 [==============================] - 0s 987us/step - loss: 0.3345 - accuracy: 0.8626\n",
            "Epoch 63/100\n",
            "250/250 [==============================] - 0s 1ms/step - loss: 0.3361 - accuracy: 0.8577\n",
            "Epoch 64/100\n",
            "250/250 [==============================] - 0s 929us/step - loss: 0.3352 - accuracy: 0.8583\n",
            "Epoch 65/100\n",
            "250/250 [==============================] - 0s 949us/step - loss: 0.3309 - accuracy: 0.8614\n",
            "Epoch 66/100\n",
            "250/250 [==============================] - 0s 942us/step - loss: 0.3397 - accuracy: 0.8583\n",
            "Epoch 67/100\n",
            "250/250 [==============================] - 0s 941us/step - loss: 0.3318 - accuracy: 0.8633\n",
            "Epoch 68/100\n",
            "250/250 [==============================] - 0s 942us/step - loss: 0.3499 - accuracy: 0.8517\n",
            "Epoch 69/100\n",
            "250/250 [==============================] - 0s 966us/step - loss: 0.3319 - accuracy: 0.8603\n",
            "Epoch 70/100\n",
            "250/250 [==============================] - 0s 994us/step - loss: 0.3367 - accuracy: 0.8620\n",
            "Epoch 71/100\n",
            "250/250 [==============================] - 0s 970us/step - loss: 0.3266 - accuracy: 0.8673\n",
            "Epoch 72/100\n",
            "250/250 [==============================] - 0s 961us/step - loss: 0.3422 - accuracy: 0.8548\n",
            "Epoch 73/100\n",
            "250/250 [==============================] - 0s 937us/step - loss: 0.3250 - accuracy: 0.8622\n",
            "Epoch 74/100\n",
            "250/250 [==============================] - 0s 1ms/step - loss: 0.3292 - accuracy: 0.8656\n",
            "Epoch 75/100\n",
            "250/250 [==============================] - 0s 958us/step - loss: 0.3382 - accuracy: 0.8599\n",
            "Epoch 76/100\n",
            "250/250 [==============================] - 0s 975us/step - loss: 0.3340 - accuracy: 0.8624\n",
            "Epoch 77/100\n",
            "250/250 [==============================] - 0s 967us/step - loss: 0.3232 - accuracy: 0.8689\n",
            "Epoch 78/100\n",
            "250/250 [==============================] - 0s 1ms/step - loss: 0.3358 - accuracy: 0.8591\n",
            "Epoch 79/100\n",
            "250/250 [==============================] - 0s 972us/step - loss: 0.3320 - accuracy: 0.8621\n",
            "Epoch 80/100\n",
            "250/250 [==============================] - 0s 1ms/step - loss: 0.3384 - accuracy: 0.8600\n",
            "Epoch 81/100\n",
            "250/250 [==============================] - 0s 942us/step - loss: 0.3305 - accuracy: 0.8621\n",
            "Epoch 82/100\n",
            "250/250 [==============================] - 0s 1ms/step - loss: 0.3352 - accuracy: 0.8606\n",
            "Epoch 83/100\n",
            "250/250 [==============================] - 0s 999us/step - loss: 0.3316 - accuracy: 0.8663\n",
            "Epoch 84/100\n",
            "250/250 [==============================] - 0s 940us/step - loss: 0.3291 - accuracy: 0.8635\n",
            "Epoch 85/100\n",
            "250/250 [==============================] - 0s 967us/step - loss: 0.3318 - accuracy: 0.8589\n",
            "Epoch 86/100\n",
            "250/250 [==============================] - 0s 1ms/step - loss: 0.3330 - accuracy: 0.8620\n",
            "Epoch 87/100\n",
            "250/250 [==============================] - 0s 999us/step - loss: 0.3320 - accuracy: 0.8619\n",
            "Epoch 88/100\n",
            "250/250 [==============================] - 0s 931us/step - loss: 0.3268 - accuracy: 0.8640\n",
            "Epoch 89/100\n",
            "250/250 [==============================] - 0s 946us/step - loss: 0.3210 - accuracy: 0.8721\n",
            "Epoch 90/100\n",
            "250/250 [==============================] - 0s 1ms/step - loss: 0.3387 - accuracy: 0.8598\n",
            "Epoch 91/100\n",
            "250/250 [==============================] - 0s 978us/step - loss: 0.3344 - accuracy: 0.8601\n",
            "Epoch 92/100\n",
            "250/250 [==============================] - 0s 965us/step - loss: 0.3353 - accuracy: 0.8648\n",
            "Epoch 93/100\n",
            "250/250 [==============================] - 0s 999us/step - loss: 0.3341 - accuracy: 0.8648\n",
            "Epoch 94/100\n",
            "250/250 [==============================] - 0s 976us/step - loss: 0.3418 - accuracy: 0.8598\n",
            "Epoch 95/100\n",
            "250/250 [==============================] - 0s 964us/step - loss: 0.3308 - accuracy: 0.8629\n",
            "Epoch 96/100\n",
            "250/250 [==============================] - 0s 1ms/step - loss: 0.3316 - accuracy: 0.8622\n",
            "Epoch 97/100\n",
            "250/250 [==============================] - 0s 974us/step - loss: 0.3351 - accuracy: 0.8618\n",
            "Epoch 98/100\n",
            "250/250 [==============================] - 0s 1ms/step - loss: 0.3470 - accuracy: 0.8563\n",
            "Epoch 99/100\n",
            "250/250 [==============================] - 0s 955us/step - loss: 0.3360 - accuracy: 0.8619\n",
            "Epoch 100/100\n",
            "250/250 [==============================] - 0s 953us/step - loss: 0.3333 - accuracy: 0.8609\n"
          ],
          "name": "stdout"
        },
        {
          "output_type": "execute_result",
          "data": {
            "text/plain": [
              "<tensorflow.python.keras.callbacks.History at 0x7fb54e74a748>"
            ]
          },
          "metadata": {
            "tags": []
          },
          "execution_count": 18
        }
      ]
    },
    {
      "cell_type": "markdown",
      "metadata": {
        "id": "tJj5k2MxZga3"
      },
      "source": [
        "## Part 4 - Making the predictions and evaluating the model"
      ]
    },
    {
      "cell_type": "markdown",
      "metadata": {
        "id": "84QFoqGYeXHL"
      },
      "source": [
        "### Predicting the result of a single observation"
      ]
    },
    {
      "cell_type": "markdown",
      "metadata": {
        "id": "CGRo3eacgDdC"
      },
      "source": [
        "**Homework**\n",
        "\n",
        "Use our ANN model to predict if the customer with the following informations will leave the bank: \n",
        "\n",
        "Geography: France\n",
        "\n",
        "Credit Score: 600\n",
        "\n",
        "Gender: Male\n",
        "\n",
        "Age: 40 years old\n",
        "\n",
        "Tenure: 3 years\n",
        "\n",
        "Balance: \\$ 60000\n",
        "\n",
        "Number of Products: 2\n",
        "\n",
        "Does this customer have a credit card ? Yes\n",
        "\n",
        "Is this customer an Active Member: Yes\n",
        "\n",
        "Estimated Salary: \\$ 50000\n",
        "\n",
        "So, should we say goodbye to that customer ?"
      ]
    },
    {
      "cell_type": "markdown",
      "metadata": {
        "id": "ZhU1LTgPg-kH"
      },
      "source": [
        "**Solution**"
      ]
    },
    {
      "cell_type": "code",
      "metadata": {
        "colab": {
          "base_uri": "https://localhost:8080/"
        },
        "id": "2d8IoCCkeWGL",
        "outputId": "0c80f98d-7716-45dc-a061-86eaf7dc0a10"
      },
      "source": [
        "print(ann.predict(sc.transform([[1, 0, 0, 600, 1, 40, 3, 60000, 2, 1, 1, 50000]])) > 0.5)"
      ],
      "execution_count": 19,
      "outputs": [
        {
          "output_type": "stream",
          "text": [
            "[[False]]\n"
          ],
          "name": "stdout"
        }
      ]
    },
    {
      "cell_type": "markdown",
      "metadata": {
        "id": "wGjx94g2n7OV"
      },
      "source": [
        "Therefore, our ANN model predicts that this customer stays in the bank!\n",
        "\n",
        "**Important note 1:** Notice that the values of the features were all input in a double pair of square brackets. That's because the \"predict\" method always expects a 2D array as the format of its inputs. And putting our values into a double pair of square brackets makes the input exactly a 2D array.\n",
        "\n",
        "**Important note 2:** Notice also that the \"France\" country was not input as a string in the last column but as \"1, 0, 0\" in the first three columns. That's because of course the predict method expects the one-hot-encoded values of the state, and as we see in the first row of the matrix of features X, \"France\" was encoded as \"1, 0, 0\". And be careful to include these values in the first three columns, because the dummy variables are always created in the first columns."
      ]
    },
    {
      "cell_type": "markdown",
      "metadata": {
        "id": "u7yx47jPZt11"
      },
      "source": [
        "### Predicting the Test set results"
      ]
    },
    {
      "cell_type": "code",
      "metadata": {
        "colab": {
          "base_uri": "https://localhost:8080/"
        },
        "id": "nIyEeQdRZwgs",
        "outputId": "26809929-ad8f-4e73-bfb3-6a3c3ae3a03e"
      },
      "source": [
        "y_pred = ann.predict(X_test)\n",
        "y_pred = (y_pred > 0.5)\n",
        "print(np.concatenate((y_pred.reshape(len(y_pred),1), y_test.reshape(len(y_test),1)),1))"
      ],
      "execution_count": 20,
      "outputs": [
        {
          "output_type": "stream",
          "text": [
            "[[0 0]\n",
            " [0 1]\n",
            " [0 0]\n",
            " ...\n",
            " [0 0]\n",
            " [0 0]\n",
            " [0 0]]\n"
          ],
          "name": "stdout"
        }
      ]
    },
    {
      "cell_type": "markdown",
      "metadata": {
        "id": "o0oyfLWoaEGw"
      },
      "source": [
        "### Making the Confusion Matrix"
      ]
    },
    {
      "cell_type": "code",
      "metadata": {
        "colab": {
          "base_uri": "https://localhost:8080/"
        },
        "id": "ci6K_r6LaF6P",
        "outputId": "cc6b3b5d-2e64-48fc-b373-ecf904c66f37"
      },
      "source": [
        "from sklearn.metrics import confusion_matrix, accuracy_score\n",
        "cm = confusion_matrix(y_test, y_pred)\n",
        "print(cm)\n",
        "accuracy_score(y_test, y_pred)"
      ],
      "execution_count": 21,
      "outputs": [
        {
          "output_type": "stream",
          "text": [
            "[[1524   71]\n",
            " [ 204  201]]\n"
          ],
          "name": "stdout"
        },
        {
          "output_type": "execute_result",
          "data": {
            "text/plain": [
              "0.8625"
            ]
          },
          "metadata": {
            "tags": []
          },
          "execution_count": 21
        }
      ]
    },
    {
      "cell_type": "code",
      "metadata": {
        "id": "bD0OFufziu8N"
      },
      "source": [
        ""
      ],
      "execution_count": 21,
      "outputs": []
    }
  ]
}